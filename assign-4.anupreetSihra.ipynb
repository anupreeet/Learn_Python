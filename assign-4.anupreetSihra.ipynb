{
 "cells": [
  {
   "cell_type": "markdown",
   "metadata": {},
   "source": [
    "# Assignment-4 Anupreet sihra"
   ]
  },
  {
   "cell_type": "code",
   "execution_count": 1,
   "metadata": {},
   "outputs": [
    {
     "name": "stdout",
     "output_type": "stream",
     "text": [
      "list before removing last element : [2, 3, 4, 5]\n",
      "list after removing last element : [2, 3, 4]\n"
     ]
    }
   ],
   "source": [
    "#Q1. From the created list, remove the last element\n",
    "\n",
    "l=[2,3,4,5]\n",
    "print(\"list before removing last element :\",l)\n",
    "l=l[:-1]\n",
    "print(\"list after removing last element :\",l)\n",
    "\n",
    "\n",
    "\n"
   ]
  },
  {
   "cell_type": "code",
   "execution_count": 4,
   "metadata": {},
   "outputs": [
    {
     "name": "stdout",
     "output_type": "stream",
     "text": [
      "length =  9\n"
     ]
    }
   ],
   "source": [
    "#Q2. Counting the length of string using for loop (don't use len()).\n",
    "\n",
    "l=[2,3,4,5,6,7,8,9,10]\n",
    "c=0\n",
    "for i in l:\n",
    "     c=c+1\n",
    "print(\"length = \",c)"
   ]
  },
  {
   "cell_type": "code",
   "execution_count": 8,
   "metadata": {},
   "outputs": [
    {
     "name": "stdout",
     "output_type": "stream",
     "text": [
      "[2, 3, 4, 5, 6, 7, 8, 7, 7, 7]\n",
      "enter the element from  list to calculate its occurence7\n",
      "occurence of 7 in list is: 4 \n"
     ]
    }
   ],
   "source": [
    "#Q3. Count the occurrence of a particular element in a list.\n",
    "\n",
    "l=[2,3,4,5,6,7,8,7,7,7]\n",
    "print(l)\n",
    "c=0\n",
    "\n",
    "n=int(input(\"enter the element from  list to calculate its occurence\"))\n",
    "for i in l:\n",
    "    if i==n:\n",
    "        c=c+1\n",
    "print(\"occurence of {} in list is: {} \".format(n,c))\n",
    "    "
   ]
  },
  {
   "cell_type": "code",
   "execution_count": 10,
   "metadata": {},
   "outputs": [
    {
     "name": "stdout",
     "output_type": "stream",
     "text": [
      "[(1, 'a', 'hey'), (2, 'b', 'bye')]\n"
     ]
    }
   ],
   "source": [
    "#Q4. Create a zip of lists.\n",
    "\n",
    "l1=[1,2,3]\n",
    "l2=['a','b','c','d']\n",
    "l3=['hey','bye']\n",
    "\n",
    "l=zip(l1,l2,l3)\n",
    "x=list(l)\n",
    "print(x)"
   ]
  },
  {
   "cell_type": "code",
   "execution_count": 45,
   "metadata": {},
   "outputs": [
    {
     "name": "stdout",
     "output_type": "stream",
     "text": [
      "enter size of list4\n",
      "4\n",
      "enter elements  in list in sorted manner\n",
      "1\n",
      "2\n",
      "3\n",
      "4\n",
      "['1', '2', '3', '4']\n"
     ]
    }
   ],
   "source": [
    "# Q5. Taking a sorted list. Write a program to find it's median.\n",
    "\n",
    "l=[]\n",
    "n=int(input(\"enter size of list\"))\n",
    "print(n)\n",
    "print(\"enter elements  in list in sorted manner\")\n",
    "for i in range(n):\n",
    "    x=input()\n",
    "    l.append(x)\n",
    "\n",
    "print(l)\n",
    "mid=int(n/2)\n",
    "    \n",
    "\n",
    "            \n",
    "\n"
   ]
  },
  {
   "cell_type": "code",
   "execution_count": 47,
   "metadata": {},
   "outputs": [
    {
     "name": "stdout",
     "output_type": "stream",
     "text": [
      "median = 2\n"
     ]
    }
   ],
   "source": [
    "if n%2==0:\n",
    "    m=(int(l[mid])+int(l[mid-1]))/2\n",
    "    print(\"median =\",int(m))\n",
    "else:\n",
    "    print(\"median =\",l[mid]) "
   ]
  },
  {
   "cell_type": "code",
   "execution_count": 53,
   "metadata": {},
   "outputs": [
    {
     "name": "stdout",
     "output_type": "stream",
     "text": [
      "[4, 9, 16, 25, 36, 49, 81, 64, 1, 144]\n"
     ]
    }
   ],
   "source": [
    "#Q6. Given a Python list. Turn every item of a list into its square\n",
    "\n",
    "l=[2,3,4,5,6,7,9,8,1,12]\n",
    "x=len(l)\n",
    "z=0\n",
    "while(z<x):\n",
    "    for i in l:\n",
    "        l[z]=i*i\n",
    "        z=z+1\n",
    "print(l)"
   ]
  },
  {
   "cell_type": "code",
   "execution_count": 63,
   "metadata": {},
   "outputs": [
    {
     "name": "stdout",
     "output_type": "stream",
     "text": [
      "enter size of list4\n",
      "4\n",
      "enter elements  in list \n",
      "1\n",
      "20\n",
      "3\n",
      "20\n",
      "['1', '20', '3', '20']\n",
      "['1', 200, '3', '20']\n"
     ]
    }
   ],
   "source": [
    "#Q7.  Given a Python list, find value 20 in the list, and if it is present, replace it with 200. Only update\n",
    "#the first occurrence of a value\n",
    "\n",
    "\n",
    "l=[]\n",
    "n=int(input(\"enter size of list\"))\n",
    "print(n)\n",
    "print(\"enter elements  in list \")\n",
    "for i in range(n):\n",
    "    x=input()\n",
    "    l.append(x)\n",
    "    \n",
    "print(l)\n",
    "index=l.index('20')\n",
    "l[index]=200\n",
    "        \n",
    "print(l)\n",
    "        "
   ]
  },
  {
   "cell_type": "code",
   "execution_count": 65,
   "metadata": {},
   "outputs": [
    {
     "name": "stdout",
     "output_type": "stream",
     "text": [
      "orignal list :  [2, 8, 9, 7, 6, 77, 999, 52]\n",
      "list of even no's : [2, 8, 6, 52]\n",
      "list of odd no's : [9, 7, 77, 999]\n"
     ]
    }
   ],
   "source": [
    "#Q8.  Python Program to Put Even and Odd elements in a List into Two Different Lists\n",
    "\n",
    "l=[2,8,9,7,6,77,999,52]\n",
    "l1=[]\n",
    "l2=[]\n",
    "print(\"orignal list : \",l)\n",
    "for i in l:\n",
    "    if i%2==0:\n",
    "        l1.append(i)\n",
    "    else:\n",
    "        l2.append(i)\n",
    "print(\"list of even no's :\",l1)\n",
    "print(\"list of odd no's :\",l2)\n"
   ]
  },
  {
   "cell_type": "code",
   "execution_count": 71,
   "metadata": {},
   "outputs": [
    {
     "name": "stdout",
     "output_type": "stream",
     "text": [
      "enter size of list5\n",
      "5\n",
      "enter words  in list \n",
      "hey\n",
      "bye\n",
      "seeeyaaaa\n",
      "takecareee\n",
      "icecream\n",
      "['hey', 'bye', 'seeeyaaaa', 'takecareee', 'icecream']\n",
      "longest string is takecareee with length : 10\n"
     ]
    }
   ],
   "source": [
    "#Q9.. Python Program to Read a List of Words and Return the Length of the Longest One\n",
    "\n",
    "\n",
    "l=[]\n",
    "n=int(input(\"enter size of list\"))\n",
    "print(n)\n",
    "print(\"enter words  in list \")\n",
    "for i in range(n):\n",
    "    x=input()\n",
    "    l.append(x)\n",
    "    \n",
    "print(l)\n",
    "ans=''\n",
    "longest=0\n",
    "for i in l:\n",
    "    x=len(i)\n",
    "    if(x>longest):\n",
    "        longest=x\n",
    "        ans=i\n",
    "        \n",
    "print(\"longest string is {} with length : {}\".format(ans,longest))"
   ]
  }
 ],
 "metadata": {
  "kernelspec": {
   "display_name": "Python 3",
   "language": "python",
   "name": "python3"
  },
  "language_info": {
   "codemirror_mode": {
    "name": "ipython",
    "version": 3
   },
   "file_extension": ".py",
   "mimetype": "text/x-python",
   "name": "python",
   "nbconvert_exporter": "python",
   "pygments_lexer": "ipython3",
   "version": "3.8.5"
  }
 },
 "nbformat": 4,
 "nbformat_minor": 4
}
