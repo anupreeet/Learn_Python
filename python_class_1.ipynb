{
 "cells": [
  {
   "cell_type": "markdown",
   "metadata": {},
   "source": [
    "# Python Basics"
   ]
  },
  {
   "cell_type": "code",
   "execution_count": null,
   "metadata": {},
   "outputs": [],
   "source": [
    "#key board shortcuts\n",
    "ctrl+enter - to run program\n",
    "ctrl + b  - to insert a row below an existing row\n",
    "ctrl+ a   -to insert a row above\n",
    "shift + tab - to see meaning of inbuit function"
   ]
  },
  {
   "cell_type": "code",
   "execution_count": 12,
   "metadata": {},
   "outputs": [
    {
     "name": "stdout",
     "output_type": "stream",
     "text": [
      "2\n",
      "23\n",
      "5\n",
      "x = 5\n",
      "<class 'str'>\n",
      "a\n",
      "5\n",
      "x = 5\n",
      "<class 'str'>\n"
     ]
    }
   ],
   "source": [
    "#variables\n",
    "x=2\n",
    "y=23\n",
    "print(x) \n",
    "print(y)\n",
    "\n",
    "x='5'\n",
    "print(x) \n",
    "\n",
    "print(\"x =\", x)\n",
    "print(type(x))\n",
    "\n",
    "x='a'\n",
    "print(x)\n",
    "\n",
    "x=\"5\"\n",
    "print(x)  #string\n",
    "\n",
    "\n",
    "\n",
    "print(\"x =\", x)\n",
    "print(type(x))"
   ]
  },
  {
   "cell_type": "code",
   "execution_count": 15,
   "metadata": {},
   "outputs": [
    {
     "name": "stdout",
     "output_type": "stream",
     "text": [
      "59\n",
      "14\n"
     ]
    }
   ],
   "source": [
    "#addition \n",
    "a='5' \n",
    "b='9'\n",
    "c=a+b\n",
    "print(c)\n",
    "\n",
    "a=5\n",
    "b=9\n",
    "c=a+b\n",
    "print(c)"
   ]
  },
  {
   "cell_type": "markdown",
   "metadata": {},
   "source": [
    "# typecasting\n"
   ]
  },
  {
   "cell_type": "code",
   "execution_count": 13,
   "metadata": {},
   "outputs": [
    {
     "name": "stdout",
     "output_type": "stream",
     "text": [
      "5.6\n",
      "<class 'float'>\n",
      "5\n",
      "<class 'int'>\n"
     ]
    }
   ],
   "source": [
    "a=5.6\n",
    "print(a)\n",
    "print(type(a))\n",
    "\n",
    "#convert to integer\n",
    "b=int(a)\n",
    "print(b)\n",
    "print(type(b)) #the part after decimal is truncated\n"
   ]
  },
  {
   "cell_type": "markdown",
   "metadata": {},
   "source": [
    "# input function"
   ]
  },
  {
   "cell_type": "code",
   "execution_count": 17,
   "metadata": {},
   "outputs": [
    {
     "name": "stdout",
     "output_type": "stream",
     "text": [
      "enter first num7\n",
      "enter second number6\n",
      "76\n"
     ]
    }
   ],
   "source": [
    "a=input(\"enter first num\")\n",
    "b=input(\"enter second number\")\n",
    "c=a+b\n",
    "print(c)"
   ]
  },
  {
   "cell_type": "code",
   "execution_count": 18,
   "metadata": {},
   "outputs": [
    {
     "name": "stdout",
     "output_type": "stream",
     "text": [
      "enter first number8\n",
      "enter second number2\n",
      "add=  10.0\n",
      "sub =  6.0\n",
      "mul = 16.0\n",
      "div=  4.0\n"
     ]
    }
   ],
   "source": [
    "#make a calculator\n",
    "\n",
    "a=float(input(\"enter first number\"))\n",
    "b=float(input(\"enter second number\"))\n",
    "c=a+b\n",
    "d=a-b\n",
    "e=a*b\n",
    "f=a/b\n",
    "print(\"add= \",c)\n",
    "print(\"sub = \",d)\n",
    "print(\"mul =\",e)\n",
    "print(\"div= \",f)"
   ]
  },
  {
   "cell_type": "markdown",
   "metadata": {},
   "source": [
    "# operators"
   ]
  },
  {
   "cell_type": "code",
   "execution_count": 19,
   "metadata": {},
   "outputs": [
    {
     "name": "stdout",
     "output_type": "stream",
     "text": [
      "8\n",
      "4.5\n",
      "4\n"
     ]
    }
   ],
   "source": [
    "# arithmetic operators   + , - , * , / , ** , // ,%\n",
    "a=2\n",
    "b=3\n",
    "\n",
    "c=a**b\n",
    "print(c)\n",
    "\n",
    "a=9\n",
    "b=2\n",
    "c=a/b\n",
    "print(c)\n",
    "\n",
    "\n",
    "c=a//b\n",
    "print(c)\n"
   ]
  },
  {
   "cell_type": "code",
   "execution_count": 21,
   "metadata": {},
   "outputs": [
    {
     "name": "stdout",
     "output_type": "stream",
     "text": [
      "7\n",
      "14\n"
     ]
    }
   ],
   "source": [
    "# assignment operators = , += , -= , *= , /=\n",
    "a=6\n",
    "b=7\n",
    "a+=1\n",
    "print(a)\n",
    "\n",
    "a=7\n",
    "a*=2\n",
    "print(a)"
   ]
  },
  {
   "cell_type": "code",
   "execution_count": 22,
   "metadata": {},
   "outputs": [
    {
     "name": "stdout",
     "output_type": "stream",
     "text": [
      "False\n",
      "True\n"
     ]
    }
   ],
   "source": [
    "#comparison operators == , != ,> , < , >= , <=\n",
    "\n",
    "a=6\n",
    "b=7\n",
    "print(a==b)\n",
    "print(a!=b)"
   ]
  },
  {
   "cell_type": "code",
   "execution_count": 2,
   "metadata": {},
   "outputs": [
    {
     "name": "stdout",
     "output_type": "stream",
     "text": [
      "False\n",
      "True\n",
      "False\n",
      "True\n"
     ]
    }
   ],
   "source": [
    "#logical operators  and , or , not\n",
    "a=5\n",
    "b=8\n",
    "\n",
    "print(a > 6 and b<9)\n",
    "print( a> 2 or b<4)\n",
    "\n",
    "x=4\n",
    "print(not(x>3))\n",
    "\n",
    "x=2\n",
    "print(not(x>3 and x < 10))\n"
   ]
  },
  {
   "cell_type": "code",
   "execution_count": 14,
   "metadata": {},
   "outputs": [
    {
     "name": "stdout",
     "output_type": "stream",
     "text": [
      "458.45\n"
     ]
    }
   ],
   "source": [
    "#display float number using 2 decimal places using print\n",
    "\n",
    "print(\"%.2f\" % 458.44859 )"
   ]
  },
  {
   "cell_type": "markdown",
   "metadata": {},
   "source": [
    "# format() "
   ]
  },
  {
   "cell_type": "code",
   "execution_count": 10,
   "metadata": {},
   "outputs": [
    {
     "name": "stdout",
     "output_type": "stream",
     "text": [
      "my name is anu , I'm 20 \n",
      "my name is anu,I'm 21\n",
      "my name is anu , i'm 22\n"
     ]
    }
   ],
   "source": [
    "#this method formats the specified values and inserts them inside string's placeholder.\n",
    "\n",
    "a=\"my name is {name} , I'm {age} \".format(name=\"anu\",age=20)\n",
    "b=\"my name is {0},I'm {1}\".format(\"anu\",21)\n",
    "c=\"my name is {} , i'm {}\".format(\"anu\",22) \n",
    "print(a)\n",
    "print(b)\n",
    "print(c)"
   ]
  },
  {
   "cell_type": "code",
   "execution_count": 11,
   "metadata": {},
   "outputs": [
    {
     "name": "stdout",
     "output_type": "stream",
     "text": [
      "enter your nameanu\n",
      "enter your surnamesihra\n",
      "anusihra enter the marks of subject 1 677\n"
     ]
    }
   ],
   "source": [
    "n=input(\"enter your name\")\n",
    "s=input(\"enter your surname\")\n",
    "sub1=float(input(\"{}{} enter the marks of subject 1 \".format(n,s) ))"
   ]
  },
  {
   "cell_type": "code",
   "execution_count": 28,
   "metadata": {},
   "outputs": [
    {
     "name": "stdout",
     "output_type": "stream",
     "text": [
      "enter first nameanu\n",
      "enter last namesihra\n",
      "enter marks of 5 subjects2,34,67,89,33\n",
      "2 34 67 89 33\n",
      "average of marks =  45.0\n"
     ]
    }
   ],
   "source": [
    "#wap to take name of  a student and enter marks of 5 subjects ,print all marks and print average of marks\n",
    "\n",
    "n=input(\"enter first name\")\n",
    "s=input(\"enter last name\")\n",
    "#sub1 , sub2 , sub3 , sub4 , sub5=input(\"enter marks of 5 subjects\").split()\n",
    "#print(sub1,sub2,sub3,sub4,sub5)\n",
    "\n",
    "sub1 , sub2 , sub3 , sub4 , sub5=input(\"enter marks of 5 subjects\").split(sep=\",\")\n",
    "\n",
    "print(sub1,sub2,sub3,sub4,sub5)\n",
    "\n",
    "avg=(int(sub1)+int(sub2)+int(sub3)+int(sub4)+int(sub5))/5\n",
    "print(\"average of marks = \",avg)\n"
   ]
  },
  {
   "cell_type": "markdown",
   "metadata": {},
   "source": [
    "# loops"
   ]
  },
  {
   "cell_type": "code",
   "execution_count": 30,
   "metadata": {},
   "outputs": [
    {
     "name": "stdout",
     "output_type": "stream",
     "text": [
      "55\n"
     ]
    }
   ],
   "source": [
    "sum=0\n",
    "i=1\n",
    "while(i<=10):\n",
    "    sum+=i\n",
    "    i+=1\n",
    "print(sum)"
   ]
  },
  {
   "cell_type": "code",
   "execution_count": 31,
   "metadata": {},
   "outputs": [
    {
     "name": "stdout",
     "output_type": "stream",
     "text": [
      "0\n",
      "1\n",
      "2\n",
      "3\n",
      "4\n",
      "5\n",
      "6\n",
      "7\n"
     ]
    }
   ],
   "source": [
    "\n",
    "for i in range(8):\n",
    "    print(i)"
   ]
  },
  {
   "cell_type": "code",
   "execution_count": 32,
   "metadata": {},
   "outputs": [
    {
     "name": "stdout",
     "output_type": "stream",
     "text": [
      "2\n",
      "3\n",
      "4\n",
      "5\n",
      "6\n",
      "7\n",
      "8\n"
     ]
    }
   ],
   "source": [
    "for i in range(2,9):\n",
    "    print(i)"
   ]
  },
  {
   "cell_type": "code",
   "execution_count": 33,
   "metadata": {},
   "outputs": [
    {
     "name": "stdout",
     "output_type": "stream",
     "text": [
      "2\n",
      "5\n",
      "8\n",
      "11\n",
      "14\n",
      "17\n"
     ]
    }
   ],
   "source": [
    "for i in range(2,18,3):\n",
    "    print(i)"
   ]
  },
  {
   "cell_type": "code",
   "execution_count": 7,
   "metadata": {},
   "outputs": [
    {
     "name": "stdout",
     "output_type": "stream",
     "text": [
      "5\n",
      "7\n",
      "9\n",
      "11\n",
      "13\n",
      "15\n",
      "17\n",
      "19\n",
      "21\n",
      "23\n",
      "25\n",
      "27\n",
      "29\n"
     ]
    }
   ],
   "source": [
    "#odd numbers between 5 and 30\n",
    "for i in range(5,30,2):\n",
    "    print(i)"
   ]
  },
  {
   "cell_type": "code",
   "execution_count": 8,
   "metadata": {},
   "outputs": [
    {
     "name": "stdout",
     "output_type": "stream",
     "text": [
      "5\n",
      "7\n",
      "9\n",
      "11\n",
      "13\n",
      "15\n",
      "17\n",
      "19\n",
      "21\n",
      "23\n",
      "25\n",
      "27\n",
      "29\n"
     ]
    }
   ],
   "source": [
    "#odd numbers between 4 and 30\n",
    "for i in range(4,30,2):\n",
    "    print(i+1)"
   ]
  },
  {
   "cell_type": "code",
   "execution_count": 3,
   "metadata": {},
   "outputs": [
    {
     "name": "stdout",
     "output_type": "stream",
     "text": [
      "enter lower limit5\n",
      "enter upper limit14\n",
      "5\n",
      "7\n",
      "9\n",
      "11\n",
      "13\n"
     ]
    }
   ],
   "source": [
    "#display all even no's between lower lim and upper ,take this range from user\n",
    "l=int(input(\"enter lower limit\"))\n",
    "u=int(input(\"enter upper limit\"))\n",
    "u=u+1\n",
    "for i in range(l,u,2):\n",
    "    print(i)"
   ]
  },
  {
   "cell_type": "code",
   "execution_count": 35,
   "metadata": {},
   "outputs": [
    {
     "name": "stdout",
     "output_type": "stream",
     "text": [
      "f\n",
      "l\n",
      "o\n",
      "w\n",
      "e\n",
      "r\n"
     ]
    }
   ],
   "source": [
    "i=\"flower\"\n",
    "for x in i:\n",
    "    print(x)"
   ]
  },
  {
   "cell_type": "code",
   "execution_count": 37,
   "metadata": {},
   "outputs": [
    {
     "name": "stdout",
     "output_type": "stream",
     "text": [
      "f\n",
      "l\n",
      "w\n",
      "e\n",
      "r\n"
     ]
    }
   ],
   "source": [
    "#continue\n",
    "\n",
    "i=\"flower\"\n",
    "for x in i:\n",
    "    if x=='o' :\n",
    "        continue\n",
    "    else:\n",
    "        print(x)"
   ]
  },
  {
   "cell_type": "code",
   "execution_count": 38,
   "metadata": {},
   "outputs": [
    {
     "name": "stdout",
     "output_type": "stream",
     "text": [
      "f\n",
      "l\n"
     ]
    }
   ],
   "source": [
    "#break\n",
    "\n",
    "i=\"flower\"\n",
    "for x in i :\n",
    "    if x=='o':\n",
    "        break;\n",
    "    else:\n",
    "        print(x)"
   ]
  },
  {
   "cell_type": "code",
   "execution_count": 39,
   "metadata": {},
   "outputs": [
    {
     "name": "stdout",
     "output_type": "stream",
     "text": [
      "3\n",
      "4\n",
      "5\n",
      "6\n",
      "7\n"
     ]
    }
   ],
   "source": [
    "#come out of loop as soon as 8 occurs\n",
    "\n",
    "for i in range(3,13):\n",
    "    if i==8:\n",
    "        break;\n",
    "    else:\n",
    "        print(i)\n",
    "    "
   ]
  },
  {
   "cell_type": "code",
   "execution_count": 40,
   "metadata": {},
   "outputs": [
    {
     "name": "stdout",
     "output_type": "stream",
     "text": [
      "3\n",
      "4\n",
      "5\n",
      "7\n",
      "8\n",
      "9\n",
      "10\n",
      "11\n",
      "12\n"
     ]
    }
   ],
   "source": [
    "#skip printing 6 while running the code\n",
    "\n",
    "for i in range(3,13):\n",
    "    if i==6 :\n",
    "        continue\n",
    "    else:\n",
    "        print(i)"
   ]
  },
  {
   "cell_type": "code",
   "execution_count": 42,
   "metadata": {},
   "outputs": [
    {
     "name": "stdout",
     "output_type": "stream",
     "text": [
      "3\n",
      "5\n",
      "6\n",
      "7\n",
      "9\n",
      "10\n",
      "11\n",
      "12\n",
      "13\n",
      "14\n"
     ]
    }
   ],
   "source": [
    "#### skip printing 4 and 8 while running the code\n",
    "\n",
    "for x in range(3,15):\n",
    "    if(x==4 or x==8):\n",
    "        continue\n",
    "    else:\n",
    "        print(x)"
   ]
  },
  {
   "cell_type": "markdown",
   "metadata": {},
   "source": [
    "#print pattern\n",
    "\n",
    "\n",
    "for i in range(1,5):\n",
    "    for j in range(i):\n",
    "        print(i ,end=\" \")\n",
    "    print()\n",
    "\n",
    "print() \n",
    "for i in range(1,5):\n",
    "    for j in range(i):\n",
    "        print(j ,end=\" \")\n",
    "    print()\n",
    "    \n",
    "for i in range(1,6):\n",
    "    for j in range(1,i):\n",
    "        print(j ,end=\" \")\n",
    "    print()\n",
    "    \n",
    "for i in range(65,71):\n",
    "    for j in range(65,i):\n",
    "        print(chr(j) ,end=\" \")\n",
    "    print()"
   ]
  },
  {
   "cell_type": "markdown",
   "metadata": {},
   "source": [
    "# IF ELSE"
   ]
  },
  {
   "cell_type": "code",
   "execution_count": 4,
   "metadata": {},
   "outputs": [
    {
     "name": "stdout",
     "output_type": "stream",
     "text": [
      "7 is greater\n",
      "this is outside if condition\n"
     ]
    }
   ],
   "source": [
    "a=7\n",
    "if a>5 :\n",
    "    print(\"{} is greater\".format(a))\n",
    "print(\"this is outside if condition\")"
   ]
  },
  {
   "cell_type": "code",
   "execution_count": 6,
   "metadata": {},
   "outputs": [
    {
     "name": "stdout",
     "output_type": "stream",
     "text": [
      "a is equal to 5\n",
      " i dont know\n"
     ]
    }
   ],
   "source": [
    "a=5\n",
    "if(a>5):\n",
    "    print(\"a is greater than 5\")\n",
    "elif a==5 :\n",
    "    print(\"a is equal to 5\")\n",
    "else:\n",
    "    print(\"a is smaller than 5\")\n",
    "if(a=='i'):\n",
    "    print(\"i\")\n",
    "else:\n",
    "    print(\" i dont know\")\n",
    "    "
   ]
  },
  {
   "cell_type": "code",
   "execution_count": 7,
   "metadata": {},
   "outputs": [
    {
     "name": "stdout",
     "output_type": "stream",
     "text": [
      "enter first value4.5\n",
      "enter second value3.5\n",
      " 4.5 is greater than 3.5 \n"
     ]
    }
   ],
   "source": [
    "#take 2 float values from user and print largest\n",
    "\n",
    "x=float(input(\"enter first value\"))\n",
    "y=float(input(\"enter second value\"))\n",
    "if(x>y):\n",
    "    print(\" {} is greater than {} \".format(x,y))\n",
    "else:\n",
    "    print(\"{} is greater than {} \".format(y,x))"
   ]
  },
  {
   "cell_type": "code",
   "execution_count": 8,
   "metadata": {},
   "outputs": [
    {
     "name": "stdout",
     "output_type": "stream",
     "text": [
      "enter 1st num34.5\n",
      "enter second num12\n",
      "enter 3rd num4.5\n",
      "x is largest\n"
     ]
    }
   ],
   "source": [
    "#make a program to compare 3 values entered by user\n",
    "\n",
    "x=float(input(\"enter 1st num\"))\n",
    "y=float(input(\"enter second num\"))\n",
    "z=float(input(\"enter 3rd num\"))\n",
    "\n",
    "if( x>y and x>z):\n",
    "    print(\"x is largest\")\n",
    "elif (y>x and y>z):\n",
    "    print(\"y is largest\")\n",
    "else:\n",
    "    print(\" z is largest\")"
   ]
  },
  {
   "cell_type": "code",
   "execution_count": 9,
   "metadata": {},
   "outputs": [
    {
     "name": "stdout",
     "output_type": "stream",
     "text": [
      "enter num45\n",
      "odd num\n"
     ]
    }
   ],
   "source": [
    "#check even odd\n",
    "\n",
    "n =int(input(\"enter num\"))\n",
    "if n%2==0:\n",
    "    print(\"even num\")\n",
    "else:\n",
    "    print(\"odd num\")"
   ]
  },
  {
   "cell_type": "code",
   "execution_count": 11,
   "metadata": {},
   "outputs": [
    {
     "name": "stdout",
     "output_type": "stream",
     "text": [
      "enter lower limit3\n",
      "enter upper limit8\n",
      "3 is odd\n",
      "4 is even\n",
      "5 is odd\n",
      "6 is even\n",
      "7 is odd\n",
      "8 is even\n"
     ]
    }
   ],
   "source": [
    "#check all the numbers in a given range whether they are even or odd\n",
    "\n",
    "l=int(input(\"enter lower limit\"))\n",
    "u=int(input(\"enter upper limit\"))\n",
    "for i in range(l,u+1):\n",
    "    if(i%2==0):\n",
    "        print(\"{} is even\".format(i))\n",
    "    else:\n",
    "        print(\"{} is odd\".format(i))\n",
    "    \n"
   ]
  },
  {
   "cell_type": "code",
   "execution_count": 13,
   "metadata": {},
   "outputs": [
    {
     "name": "stdout",
     "output_type": "stream",
     "text": [
      "enter 1st num 4\n",
      "enter 2nd num 7\n",
      "difference is negative\n"
     ]
    }
   ],
   "source": [
    "# enter 2 values form user and check that whether their difference is positive or negative\n",
    "\n",
    "x=int(input(\"enter 1st num \"))\n",
    "y=int(input(\"enter 2nd num \"))\n",
    "z=x-y\n",
    "if z>0:\n",
    "    print(\"difference is positive\")\n",
    "else:\n",
    "    print(\"difference is negative\")"
   ]
  },
  {
   "cell_type": "code",
   "execution_count": 15,
   "metadata": {},
   "outputs": [
    {
     "name": "stdout",
     "output_type": "stream",
     "text": [
      "enter valuer\n",
      "it is character\n"
     ]
    }
   ],
   "source": [
    "#check whether entered value is digit or character\n",
    "\n",
    "n=input(\"enter value \")\n",
    "if n.isdigit():\n",
    "    print(\"it is digit\")\n",
    "else:\n",
    "    print(\"it is character\")"
   ]
  },
  {
   "cell_type": "code",
   "execution_count": 16,
   "metadata": {},
   "outputs": [
    {
     "name": "stdout",
     "output_type": "stream",
     "text": [
      "enter valuer\n",
      "it is charcter\n"
     ]
    }
   ],
   "source": [
    "n=input(\"enter value\")\n",
    "if n.isalpha():\n",
    "    print(\"it is charcter\")\n",
    "else:\n",
    "    print(\"it is digit\")"
   ]
  },
  {
   "cell_type": "code",
   "execution_count": null,
   "metadata": {},
   "outputs": [],
   "source": [
    "#grading system , take number of students from user , enter marks of 5 subjects,find sum,find avg,provide grades\n",
    "90>= A\n",
    "80-89 =B\n",
    "70-79 = C\n",
    "<70 = D\n",
    " #use split method also"
   ]
  },
  {
   "cell_type": "code",
   "execution_count": null,
   "metadata": {},
   "outputs": [
    {
     "name": "stdout",
     "output_type": "stream",
     "text": [
      "enter no of enteries you want to make2\n",
      "enter name of student and then marks of 5 subjects , all seperated by a commaanu,23,56,78,54,33\n",
      "\n",
      " name and marks of  student 1 are : anu 23.0 56.0 78.0 54.0 \n",
      " total sum and average of anu are : 244.0 48.8  \n",
      "percentage =  48.8\n",
      "grade D\n"
     ]
    }
   ],
   "source": [
    "n=int(input(\"enter no of enteries you want to make\"))\n",
    "for i in range(n):\n",
    "    n,m1,m2,m3,m4,m5=input(\"enter name of student and then marks of 5 subjects , all seperated by a comma\").split(sep=\",\")\n",
    "    m1=float(m1)\n",
    "    m2=float(m2)\n",
    "    m3=float(m3)\n",
    "    m4=float(m4)\n",
    "    m5=float(m5)\n",
    "    if( m1 > 100 or m2> 100 or m3 > 100 or m4 > 100 or m5>100):\n",
    "        print(\"enter marks again\")\n",
    "        continue\n",
    "    print()\n",
    "    print(\" name and marks of  student {} are : {} {} {} {} {} \".format(i+1,n,m1,m2,m3,m4,m5))\n",
    "    summ=m1+m2+m3+m4+m5\n",
    "    avg=summ/5\n",
    "    print(\" total sum and average of {} are : {} {}  \".format(n,summ,avg))\n",
    "    per=(summ/500)*100\n",
    "    print(\"percentage = \",per)\n",
    "    if per>=90:\n",
    "        print(\"grade A\")\n",
    "    elif per>=80 and per<=89:\n",
    "        print(\"grade B\")\n",
    "    elif per>=70 and per<=79:\n",
    "        print(\"grade C\")\n",
    "    else:\n",
    "        print(\"grade D\")\n",
    "    \n",
    "    \n",
    "    \n",
    "    \n",
    "    \n",
    "    "
   ]
  }
 ],
 "metadata": {
  "kernelspec": {
   "display_name": "Python 3",
   "language": "python",
   "name": "python3"
  },
  "language_info": {
   "codemirror_mode": {
    "name": "ipython",
    "version": 3
   },
   "file_extension": ".py",
   "mimetype": "text/x-python",
   "name": "python",
   "nbconvert_exporter": "python",
   "pygments_lexer": "ipython3",
   "version": "3.8.5"
  }
 },
 "nbformat": 4,
 "nbformat_minor": 4
}
