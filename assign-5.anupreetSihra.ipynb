{
 "cells": [
  {
   "cell_type": "markdown",
   "metadata": {},
   "source": [
    "# ASSIGNMENT 5 - anupreet sihra"
   ]
  },
  {
   "cell_type": "code",
   "execution_count": 4,
   "metadata": {},
   "outputs": [
    {
     "name": "stdout",
     "output_type": "stream",
     "text": [
      "{'Ten': 10, 'Twenty': 20, 'Thirty': 30}\n"
     ]
    }
   ],
   "source": [
    "#Q1. Below are the two lists convert it into the dictionary\n",
    "keys = ['Ten', 'Twenty', 'Thirty']\n",
    "values = [10, 20, 30]\n",
    "\n",
    "z=zip(keys,values)\n",
    "d=dict(z)\n",
    "print(d)"
   ]
  },
  {
   "cell_type": "code",
   "execution_count": 16,
   "metadata": {},
   "outputs": [
    {
     "name": "stdout",
     "output_type": "stream",
     "text": [
      "{'Thirty': 30, 'Fourty': 40, 'Fifty': 50, 'Ten': 10, 'Twenty': 20}\n"
     ]
    }
   ],
   "source": [
    "#Q2. Merge following two Python dictionaries into one\n",
    "\n",
    "dict1 = {'Ten': 10, 'Twenty': 20, 'Thirty': 30}\n",
    "dict2 = {'Thirty': 30, 'Fourty': 40, 'Fifty': 50}\n",
    "\n",
    "\n",
    "dict2.update(dict1)\n",
    "print(dict2)"
   ]
  },
  {
   "cell_type": "code",
   "execution_count": 25,
   "metadata": {},
   "outputs": [
    {
     "name": "stdout",
     "output_type": "stream",
     "text": [
      "65\n",
      "Math\n"
     ]
    }
   ],
   "source": [
    "#Q3. Get the key corresponding to the minimum value from the following dictionary\n",
    "sampleDict = {\n",
    "  'Physics': 82,\n",
    "  'Math': 65,\n",
    " 'history': 75\n",
    "}\n",
    "\n",
    "x=min(sampleDict.values())\n",
    "print(x)\n",
    "for k, v in sampleDict.items():\n",
    "        if v == x:\n",
    "            print(k)\n",
    "\n"
   ]
  },
  {
   "cell_type": "code",
   "execution_count": 30,
   "metadata": {},
   "outputs": [
    {
     "name": "stdout",
     "output_type": "stream",
     "text": [
      "8500\n"
     ]
    }
   ],
   "source": [
    "#Q4. Given a Python dictionary, Change Brad’s salary to 8500\n",
    "sampleDict = {\n",
    "    'emp1': {'name': 'Jhon', 'salary': 7500},\n",
    "    'emp2': {'name': 'Emma', 'salary': 8000},\n",
    "    'emp3': {'name': 'Brad', 'salary': 6500}\n",
    "}\n",
    "\n",
    "sampleDict['emp3']['salary']=8500\n",
    "print(sampleDict['emp3']['salary'])"
   ]
  },
  {
   "cell_type": "code",
   "execution_count": 37,
   "metadata": {},
   "outputs": [
    {
     "name": "stdout",
     "output_type": "stream",
     "text": [
      "hey 6\n",
      "ice 8\n",
      "car 3\n",
      "dict_items([('hey', 6), ('ice', 8), ('car', 3)])\n"
     ]
    }
   ],
   "source": [
    "#Q5. Taking input from user print a simple dictionary\n",
    "\n",
    "d1={}\n",
    "for i in range(3):\n",
    "    data = input().split(' ')\n",
    "    d1[data[0]] = int(data[1])\n",
    "    \n",
    "print(d1.items())\n"
   ]
  },
  {
   "cell_type": "code",
   "execution_count": 46,
   "metadata": {},
   "outputs": [
    {
     "name": "stdout",
     "output_type": "stream",
     "text": [
      "enter number of students2\n",
      "enter name\n",
      "anu\n",
      "enter marks\n",
      "89\n",
      "enter name\n",
      "puru\n",
      "enter marks\n",
      "67\n",
      "{'anu': '89', 'puru': '67'}\n",
      "anu  scorred maximum marks\n"
     ]
    }
   ],
   "source": [
    "#Q6. Create a list having students names and grade, then convert them to dictionary and print the maximum grade and the \n",
    "#student's name scoring maximum grade.\n",
    "\n",
    "n=int(input(\"enter number of students\"))\n",
    "l1=[]\n",
    "l2=[]\n",
    "for i in range(n):\n",
    "    print(\"enter name\")\n",
    "    x=input()\n",
    "    l1.append(x)\n",
    "    print(\"enter marks\")\n",
    "    y=input()\n",
    "    l2.append(y)\n",
    "\n",
    "l=zip(l1,l2)\n",
    "sample_dict=dict(l)\n",
    "print(sample_dict)\n",
    "ans=max(sample_dict.values())\n",
    "\n",
    "for k, v in sample_dict.items():\n",
    "        if v == ans:\n",
    "            print(k + \" scored maximum marks\")\n"
   ]
  },
  {
   "cell_type": "code",
   "execution_count": 50,
   "metadata": {},
   "outputs": [
    {
     "name": "stdout",
     "output_type": "stream",
     "text": [
      "{'brand': 'ford', 'electric': False, 'colors': 'black'}\n",
      "red doesn't exist in the dictionary\n"
     ]
    }
   ],
   "source": [
    "#Q7. Create a dictionary and check if a particular values exists or not.\n",
    "\n",
    "sample_dict={\n",
    "    \"brand\":\"ford\",\n",
    "    \"electric\":False,\n",
    "    \"colors\":\"black\"\n",
    "}\n",
    "flag=0\n",
    "print(sample_dict)\n",
    "val=\"red\"\n",
    "for k, v in sample_dict.items():\n",
    "        if v == val:\n",
    "            print(val+ \" exists in the dictionary\")\n",
    "            flag=1\n",
    "            \n",
    "if(flag==0):\n",
    "     print(val + \" doesn't exist in the dictionary\")"
   ]
  },
  {
   "cell_type": "code",
   "execution_count": 54,
   "metadata": {},
   "outputs": [
    {
     "name": "stdout",
     "output_type": "stream",
     "text": [
      "orignal dictionary : {'brand': 'ford', 'electric': False, 'colors': 'black'}\n",
      "after removing :  {'electric': False, 'colors': 'black'}\n"
     ]
    }
   ],
   "source": [
    "#Q8. Create a dictionary and using pop() delete a particular key:value pair.\n",
    "\n",
    "sample_dict={\n",
    "    \"brand\":\"ford\",\n",
    "    \"electric\":False,\n",
    "    \"colors\":\"black\"\n",
    "}\n",
    "\n",
    "print(\"orignal dictionary :\", sample_dict)\n",
    "sample_dict.pop(\"brand\")\n",
    "print(\"after removing : \",sample_dict)"
   ]
  },
  {
   "cell_type": "code",
   "execution_count": 60,
   "metadata": {},
   "outputs": [
    {
     "name": "stdout",
     "output_type": "stream",
     "text": [
      "{1: 1, 2: 4, 3: 9, 4: 16, 5: 25, 6: 36}\n"
     ]
    }
   ],
   "source": [
    "#Q9. Using dictionary, print the squares of numbers till 6.\n",
    "\n",
    "mydict={}\n",
    "j=1\n",
    "for i in range(1,7):\n",
    "    mydict[j]=i*i\n",
    "    j=j+1\n",
    "\n",
    "print(mydict)\n",
    "    \n",
    "    "
   ]
  },
  {
   "cell_type": "code",
   "execution_count": 56,
   "metadata": {},
   "outputs": [
    {
     "name": "stdout",
     "output_type": "stream",
     "text": [
      "{'hey': '11', 'bye': '6', 'bonjour': '3'}\n",
      "[('bonjour', '3'), ('bye', '6'), ('hey', '11')]\n"
     ]
    }
   ],
   "source": [
    "#Q10. Create a dictionary and perform sorting of key:value pairs\n",
    "\n",
    "mydict = { 'hey' : '11' , 'bye' : '6' , 'bonjour' : '3'}\n",
    "print(mydict)\n",
    "print(sorted(mydict.items()))"
   ]
  }
 ],
 "metadata": {
  "kernelspec": {
   "display_name": "Python 3",
   "language": "python",
   "name": "python3"
  },
  "language_info": {
   "codemirror_mode": {
    "name": "ipython",
    "version": 3
   },
   "file_extension": ".py",
   "mimetype": "text/x-python",
   "name": "python",
   "nbconvert_exporter": "python",
   "pygments_lexer": "ipython3",
   "version": "3.8.5"
  }
 },
 "nbformat": 4,
 "nbformat_minor": 4
}
