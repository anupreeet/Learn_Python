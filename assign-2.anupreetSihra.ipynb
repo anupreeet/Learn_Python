{
 "cells": [
  {
   "cell_type": "markdown",
   "metadata": {},
   "source": [
    "# ASSIGNMENT 2 - Anupreet Sihra     14 july 2021"
   ]
  },
  {
   "cell_type": "code",
   "execution_count": 2,
   "metadata": {},
   "outputs": [
    {
     "name": "stdout",
     "output_type": "stream",
     "text": [
      "enter no of enteries you want to make2\n",
      "enter name of student and then marks of 5 subjects , all seperated by a commaanu,34,89,99,98,99\n",
      "\n",
      " name and marks of  student 1 are : anu 34.0 89.0 99.0 98.0 \n",
      "percentage =  83.8\n",
      "Very Good Performance\n",
      "enter name of student and then marks of 5 subjects , all seperated by a commanyssa,99,98,95,99,89\n",
      "\n",
      " name and marks of  student 2 are : nyssa 99.0 98.0 95.0 99.0 \n",
      "percentage =  96.0\n",
      "Excellent Performance\n"
     ]
    }
   ],
   "source": [
    "#1. Write a PYTHON program to evaluate the student performance \n",
    "#If % is >=90 then Excellent performance \n",
    "#If % is >=80 then  Very Good performance \n",
    "#If % is >=70 then Good performance \n",
    "#If % is >=60 then average performance \n",
    "#else Poor performance.\n",
    "\n",
    "n=int(input(\"enter no of enteries you want to make\"))\n",
    "for i in range(n):\n",
    "    n,m1,m2,m3,m4,m5=input(\"enter name of student and then marks of 5 subjects , all seperated by a comma\").split(sep=\",\")\n",
    "    m1=float(m1)\n",
    "    m2=float(m2)\n",
    "    m3=float(m3)\n",
    "    m4=float(m4)\n",
    "    m5=float(m5)\n",
    "    if( m1 > 100 or m2> 100 or m3 > 100 or m4 > 100 or m5>100):\n",
    "        print(\"enter marks again\")\n",
    "        continue\n",
    "    print()\n",
    "    print(\" name and marks of  student {} are : {} {} {} {} {} \".format(i+1,n,m1,m2,m3,m4,m5))\n",
    "    summ=m1+m2+m3+m4+m5\n",
    "   \n",
    "    per=(summ/500)*100\n",
    "    print(\"percentage = \",per)\n",
    "    if per>=90:\n",
    "        print(\"Excellent Performance\")\n",
    "    elif per>=80 and per<=89:\n",
    "        print(\"Very Good Performance\")\n",
    "    elif per>=70 and per<=79:\n",
    "        print(\"Good Performance\")\n",
    "    else:\n",
    "        print(\"Average Performance\")"
   ]
  },
  {
   "cell_type": "code",
   "execution_count": 37,
   "metadata": {},
   "outputs": [
    {
     "name": "stdout",
     "output_type": "stream",
     "text": [
      "enter year  2016\n",
      "leap year\n"
     ]
    }
   ],
   "source": [
    "#2.Write a PYTHON program to check a year for leap year.\n",
    "\n",
    "year=int(input(\"enter year  \"))\n",
    "if( (year%4 ==0 and year%100!=0) or year%400==0):\n",
    "    print(\"leap year\")\n",
    "else:\n",
    "    print(\"not a leap year\")"
   ]
  },
  {
   "cell_type": "code",
   "execution_count": 36,
   "metadata": {},
   "outputs": [
    {
     "name": "stdout",
     "output_type": "stream",
     "text": [
      "enter name, gender(m/f) , age , marriage status (unmarried or married) of driver ,all seperated by a comma shreya , 46,f,unmarried\n",
      "congrats! shreya  can be a driver\n"
     ]
    }
   ],
   "source": [
    "#3. A company insures its drivers in the following cases:\n",
    "#- If the driver is married.\n",
    "#- If the driver is unmarried, male and above 30 years of age.\n",
    "#- If the driver is unmarried, female and above 25 years of age.\n",
    "\n",
    "name,age,g,s=input(\"enter name, age, gender(m/f)  , marriage status (unmarried or married) of driver ,all seperated by a comma \").split(sep=\",\")\n",
    "age=int(age)\n",
    "\n",
    "if(s=='married'):\n",
    "    print(\"congrats! {} can be a driver\".format(name))\n",
    "elif ( s=='unmarried' and g =='m' and age>30):\n",
    "        print(\"congrats! {} can be a driver\".format(name))\n",
    "elif ( s=='unmarried' and g =='f' and age>25):\n",
    "        print(\"congrats! {} can be a driver\".format(name))\n",
    "else:\n",
    "        print(\"sorry {} can't be a driver\".format(name))\n",
    "\n",
    "    \n"
   ]
  },
  {
   "cell_type": "code",
   "execution_count": 17,
   "metadata": {},
   "outputs": [
    {
     "name": "stdout",
     "output_type": "stream",
     "text": [
      "Enter salary: 4500\n",
      "Enter years of service: 7\n",
      "Net bonus amount is:  225.0\n"
     ]
    }
   ],
   "source": [
    "#4. A company decided to give bonus of 5% to employee if his/her year of service is more than 5 years. Ask user for their\n",
    "#salary and year of service and print the net bonus amount.\n",
    "\n",
    "sal=int(input(\"Enter salary: \"))\n",
    "exp=int(input(\"Enter years of service: \"))\n",
    "if exp>=5:\n",
    "    bon=(sal*5)/100\n",
    "    print(\"Net bonus amount is: \",bon)\n",
    "else:\n",
    "    print(\"No bonus\")"
   ]
  },
  {
   "cell_type": "code",
   "execution_count": 25,
   "metadata": {},
   "outputs": [
    {
     "name": "stdout",
     "output_type": "stream",
     "text": [
      "enter string  hey33444\n",
      "digits = 5 and letters = 3 \n"
     ]
    }
   ],
   "source": [
    "#5. Program that accepts a string and calculate the number of digits and letters.\n",
    "\n",
    "n=input(\"enter string  \")\n",
    "\n",
    "c=0\n",
    "a=0\n",
    "for i in n:\n",
    "    if i.isdigit():\n",
    "        c=c+1\n",
    "    else:\n",
    "        a=a+1\n",
    "print(\"digits = {} and letters = {} \".format(c,a))  "
   ]
  },
  {
   "cell_type": "code",
   "execution_count": 27,
   "metadata": {},
   "outputs": [
    {
     "name": "stdout",
     "output_type": "stream",
     "text": [
      "Enter 3 sides of triangle\n",
      "2\n",
      "5\n",
      "7\n",
      "Scalene Triangle\n"
     ]
    }
   ],
   "source": [
    "#6. program to check a triangle is equilateral, isosceles or scalene. \n",
    "#Note :\n",
    "#An equilateral triangle is a triangle in which all three sides are equal.\n",
    "#A scalene triangle is a triangle that has three unequal sides.\n",
    "#An isosceles triangle is a triangle with (at least) two equal sides.\n",
    "\n",
    "print(\"Enter 3 sides of triangle\")\n",
    "a=float(input())\n",
    "b=float(input())\n",
    "c=float(input())\n",
    "\n",
    "if a==b and b==c and a==c:\n",
    "    print(\"Equilateral Triangle\")\n",
    "elif a==b or b==c or c==a:\n",
    "    print(\"Isosceles Triangle\")\n",
    "else:\n",
    "    print(\"Scalene Triangle\")"
   ]
  },
  {
   "cell_type": "code",
   "execution_count": 30,
   "metadata": {},
   "outputs": [
    {
     "name": "stdout",
     "output_type": "stream",
     "text": [
      "Enter units: 400\n",
      "Charges: 2500 Rs\n"
     ]
    }
   ],
   "source": [
    "#7. program to calculate the electricity bill (accept number of unit from user) according to the following criteria :\n",
    "#         Unit                         Price  \n",
    "# First 100 units \t\t\t\t\tno charge\n",
    "# Next 100 units\t\t\t\t\t Rs 5 per unit\n",
    "# After 200 units\t\t\t\t\t Rs 10 per unit\n",
    "\n",
    "\n",
    "\n",
    "units=int(input(\"Enter units: \"))\n",
    "if units<=100:\n",
    "    print(\"No charge below 100 units\")\n",
    "else:\n",
    "    if units<=200:\n",
    "        units=units-100\n",
    "        amt=units*5\n",
    "        print(\"Charges: {} Rs\".format(amt))\n",
    "    else:\n",
    "        units=units-200\n",
    "        amt=units*10\n",
    "        amt=amt+500\n",
    "        print(\"Charges: {} Rs\".format(amt))\n",
    "\n"
   ]
  },
  {
   "cell_type": "code",
   "execution_count": 29,
   "metadata": {},
   "outputs": [
    {
     "name": "stdout",
     "output_type": "stream",
     "text": [
      "enter cost price567777\n",
      "56777.700000000004\n"
     ]
    }
   ],
   "source": [
    "#8. Program to accept the cost price of a bike and display the road tax to be paid according to the following criteria :\n",
    "  #  Cost price (in Rs)                                       Tax\n",
    "#  > 100000                                                  15 %\n",
    "#  > 50000 and <= 100000                                     10%\n",
    "# <= 50000                                                  5%\n",
    "cp=int(input(\"enter cost price\"))\n",
    "if(cp<=50000):\n",
    "    tax=0.05*cp\n",
    "elif(cp>50000 and c<=100000):\n",
    "    tax=0.1*cp\n",
    "else:\n",
    "         tax=0.15*cp\n",
    "        \n",
    "print(tax)"
   ]
  }
 ],
 "metadata": {
  "kernelspec": {
   "display_name": "Python 3",
   "language": "python",
   "name": "python3"
  },
  "language_info": {
   "codemirror_mode": {
    "name": "ipython",
    "version": 3
   },
   "file_extension": ".py",
   "mimetype": "text/x-python",
   "name": "python",
   "nbconvert_exporter": "python",
   "pygments_lexer": "ipython3",
   "version": "3.8.5"
  }
 },
 "nbformat": 4,
 "nbformat_minor": 4
}
