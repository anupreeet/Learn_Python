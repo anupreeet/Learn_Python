{
 "cells": [
  {
   "cell_type": "markdown",
   "metadata": {},
   "source": [
    "# assignment 1 - anupreet sihra"
   ]
  },
  {
   "cell_type": "markdown",
   "metadata": {},
   "source": [
    "# WHILE LOOP"
   ]
  },
  {
   "cell_type": "code",
   "execution_count": 3,
   "metadata": {},
   "outputs": [
    {
     "name": "stdout",
     "output_type": "stream",
     "text": [
      "enter value of n  5\n",
      "1\n",
      "2\n",
      "3\n",
      "4\n",
      "5\n"
     ]
    }
   ],
   "source": [
    "# wap to print natural numbers upto n\n",
    "\n",
    "n=int(input(\"enter value of n  \"))\n",
    "i=1\n",
    "while i<=n:\n",
    "    print(i)\n",
    "    i=i+1"
   ]
  },
  {
   "cell_type": "code",
   "execution_count": 4,
   "metadata": {},
   "outputs": [
    {
     "name": "stdout",
     "output_type": "stream",
     "text": [
      "enter value of n16\n",
      "0\n",
      "2\n",
      "4\n",
      "6\n",
      "8\n",
      "10\n",
      "12\n",
      "14\n",
      "16\n"
     ]
    }
   ],
   "source": [
    "# wap to print even numbers upto n\n",
    "\n",
    "n=int(input(\"enter value of n  \"))\n",
    "i=0\n",
    "while i<=n:\n",
    "    print(i)\n",
    "    i=i+2"
   ]
  },
  {
   "cell_type": "code",
   "execution_count": 6,
   "metadata": {},
   "outputs": [
    {
     "name": "stdout",
     "output_type": "stream",
     "text": [
      "enter value of n  8\n",
      "sum =  20\n"
     ]
    }
   ],
   "source": [
    "# wap to print sum of even numbers upto n\n",
    "\n",
    "n=int(input(\"enter value of n  \"))\n",
    "i=0\n",
    "sum=0\n",
    "while i<=n:\n",
    "    sum=sum+i\n",
    "    i=i+2\n",
    "print(\"sum = \",sum)"
   ]
  },
  {
   "cell_type": "code",
   "execution_count": 9,
   "metadata": {},
   "outputs": [
    {
     "name": "stdout",
     "output_type": "stream",
     "text": [
      "enter value of n  8\n",
      "8\n",
      "7\n",
      "6\n",
      "5\n",
      "4\n",
      "3\n",
      "2\n",
      "1\n"
     ]
    }
   ],
   "source": [
    "#wap to print natural numbers upto n in reverse order\n",
    "\n",
    "\n",
    "n=int(input(\"enter value of n  \"))\n",
    "i=n\n",
    "while i>0:\n",
    "    print(i)\n",
    "    i=i-1"
   ]
  },
  {
   "cell_type": "code",
   "execution_count": 16,
   "metadata": {},
   "outputs": [
    {
     "name": "stdout",
     "output_type": "stream",
     "text": [
      "enter value of n  8\n",
      "40320\n"
     ]
    }
   ],
   "source": [
    "# wap to find factorial of a given number\n",
    "\n",
    "\n",
    "n=int(input(\"enter value of n  \"))\n",
    "i=1\n",
    "fact=1\n",
    "while i<=n:\n",
    "    fact=fact*i\n",
    "    i=i+1\n",
    "print(fact)"
   ]
  },
  {
   "cell_type": "markdown",
   "metadata": {},
   "source": [
    "# FOR LOOP"
   ]
  },
  {
   "cell_type": "code",
   "execution_count": 26,
   "metadata": {},
   "outputs": [
    {
     "name": "stdout",
     "output_type": "stream",
     "text": [
      "enter number 9\n",
      "not prime\n"
     ]
    }
   ],
   "source": [
    "# wap to check number is prime or not\n",
    "\n",
    "n=int(input(\"enter number \"))\n",
    "flag=0\n",
    "for i in range(2,n):\n",
    "    if n%i == 0 :\n",
    "        print(\"not prime\")\n",
    "        flag=1\n",
    "        break\n",
    "    else:\n",
    "        continue\n",
    "if flag!=1:\n",
    "    print(\"prime number\")"
   ]
  },
  {
   "cell_type": "code",
   "execution_count": 32,
   "metadata": {},
   "outputs": [
    {
     "name": "stdout",
     "output_type": "stream",
     "text": [
      "enter number12345\n",
      "15\n"
     ]
    }
   ],
   "source": [
    "# wap to find sum of digits of a given number\n",
    "\n",
    "n=int(input(\"enter number\"))\n",
    "\n",
    "sum=0\n",
    "for i in range(1,n):\n",
    "    r=n%10\n",
    "    n=n//10\n",
    "    sum=sum+r\n",
    "    \n",
    "    \n",
    "print(sum)\n",
    "    "
   ]
  },
  {
   "cell_type": "code",
   "execution_count": 35,
   "metadata": {},
   "outputs": [
    {
     "name": "stdout",
     "output_type": "stream",
     "text": [
      "enter number25\n",
      "2\n",
      "4\n",
      "8\n",
      "16\n",
      "32\n",
      "64\n",
      "128\n",
      "256\n",
      "512\n",
      "1024\n",
      "2048\n",
      "4096\n",
      "8192\n",
      "16384\n",
      "32768\n",
      "65536\n",
      "131072\n",
      "262144\n",
      "524288\n",
      "1048576\n",
      "2097152\n",
      "4194304\n",
      "8388608\n",
      "16777216\n",
      "33554432\n"
     ]
    }
   ],
   "source": [
    "# wap that prints 1 2 4 8 16 32 .... n2\n",
    "\n",
    "n=int(input(\"enter number\"))\n",
    "for i in range(1,n+1):\n",
    "    print(2**i)\n",
    "    \n"
   ]
  },
  {
   "cell_type": "code",
   "execution_count": 38,
   "metadata": {},
   "outputs": [
    {
     "name": "stdout",
     "output_type": "stream",
     "text": [
      "enter value of n  5\n",
      "A \n",
      "A B \n",
      "A B C \n",
      "A B C D \n",
      "A B C D E \n"
     ]
    }
   ],
   "source": [
    "#printing  pattern \n",
    "\n",
    "n=int(input(\"enter value of n  \"))\n",
    "    \n",
    "for i in range(65,65+n):\n",
    "    for j in range(65,i+1):\n",
    "        print(chr(j) ,end=\" \")\n",
    "    print()\n"
   ]
  },
  {
   "cell_type": "code",
   "execution_count": 43,
   "metadata": {},
   "outputs": [
    {
     "name": "stdout",
     "output_type": "stream",
     "text": [
      "enter value of n  5\n",
      "1 \n",
      "1 2 \n",
      "1 2 3 \n",
      "1 2 3 4 \n",
      "1 2 3 4 5 \n"
     ]
    }
   ],
   "source": [
    "#printing pattern\n",
    "\n",
    "\n",
    "n=int(input(\"enter value of n  \"))\n",
    "\n",
    "   \n",
    "for i in range(1,n+1):\n",
    "    for j in range(1,i+1):\n",
    "        print(j ,end=\" \")\n",
    "    print()"
   ]
  }
 ],
 "metadata": {
  "kernelspec": {
   "display_name": "Python 3",
   "language": "python",
   "name": "python3"
  },
  "language_info": {
   "codemirror_mode": {
    "name": "ipython",
    "version": 3
   },
   "file_extension": ".py",
   "mimetype": "text/x-python",
   "name": "python",
   "nbconvert_exporter": "python",
   "pygments_lexer": "ipython3",
   "version": "3.8.5"
  }
 },
 "nbformat": 4,
 "nbformat_minor": 4
}
