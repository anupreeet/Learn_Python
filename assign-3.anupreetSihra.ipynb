{
 "cells": [
  {
   "cell_type": "markdown",
   "metadata": {},
   "source": [
    "# ASSIGNMENT 3 - anupreet sihra"
   ]
  },
  {
   "cell_type": "code",
   "execution_count": 4,
   "metadata": {},
   "outputs": [
    {
     "name": "stdout",
     "output_type": "stream",
     "text": [
      "enter first age value4\n",
      "enter second age value5\n",
      "sum of ages is :  9\n"
     ]
    }
   ],
   "source": [
    "#Q1. Write a function that takes two age values as integers, adds\n",
    "#them up and returns the result as an integer\n",
    "\n",
    "def addd(a,b):\n",
    "    c=a+b\n",
    "    return c\n",
    "\n",
    "a=int(input(\"enter first age value\"))\n",
    "b=int(input(\"enter second age value\"))\n",
    "\n",
    "print(\"sum of ages is : \", addd(a,b))"
   ]
  },
  {
   "cell_type": "code",
   "execution_count": 11,
   "metadata": {},
   "outputs": [
    {
     "name": "stdout",
     "output_type": "stream",
     "text": [
      "enter value in feet2\n",
      "inches =  24.0\n"
     ]
    }
   ],
   "source": [
    "#Q2. Write a function that converts feet to inches. It should accept\n",
    "#a number of feet as an argument and return the\n",
    "#equivalent number of inches.\n",
    "\n",
    "def convert(a):\n",
    "    ans=float(a*12)\n",
    "    return ans\n",
    "\n",
    "x=float(input(\"enter value in feet\"))\n",
    "print(\"inches = \",convert(x))\n"
   ]
  },
  {
   "cell_type": "code",
   "execution_count": 12,
   "metadata": {},
   "outputs": [
    {
     "name": "stdout",
     "output_type": "stream",
     "text": [
      "enter first number4\n",
      "enter second number6\n",
      "greater number is  :  6\n"
     ]
    }
   ],
   "source": [
    "#Q3. Write a function named “maximum” that accepts two\n",
    "#integer values and returns the one that the greater of the two\n",
    "#to the calling program\n",
    "\n",
    "def maximum(a,b):\n",
    "    return max(a,b)\n",
    "\n",
    "a=int(input(\"enter first number\"))\n",
    "b=int(input(\"enter second number\"))\n",
    "print(\"greater number is  : \",maximum(a,b))"
   ]
  },
  {
   "cell_type": "code",
   "execution_count": 16,
   "metadata": {},
   "outputs": [
    {
     "name": "stdout",
     "output_type": "stream",
     "text": [
      "enter radius of circle4\n",
      "area =  50.26548245743669\n",
      "perimeter =  25.132741228718345\n"
     ]
    }
   ],
   "source": [
    "#Q4. Write two functions to find: \n",
    "#Area of circle \n",
    "# Perimeter of circle\n",
    "import math \n",
    "def area(r):\n",
    "    return math.pi*r*r\n",
    "\n",
    "def perimeterr(r):\n",
    "    return 2*math.pi*r\n",
    "\n",
    "r=float(input(\"enter radius of circle\"))\n",
    "print(\"area = \",area(r))\n",
    "print(\"perimeter = \",perimeterr(r))"
   ]
  },
  {
   "cell_type": "code",
   "execution_count": 19,
   "metadata": {},
   "outputs": [
    {
     "name": "stdout",
     "output_type": "stream",
     "text": [
      "enter check value500\n",
      "enter tip (%)36\n",
      "total bill :  680.0\n"
     ]
    }
   ],
   "source": [
    "#Q5. Write a function that accepts a restaurant check and a tip %\n",
    "#Print out the tip that should be left on the table as well as the\n",
    "#total bill\n",
    "#If the tip is less than 15% you should tell the user that they\n",
    "#might want to leave a little more on the table\n",
    "\n",
    "def cal(check,tip):\n",
    "    t=tip*check\n",
    "    if(t<0.15):\n",
    "        print(\"please leave a little more on the table\")\n",
    "    else:\n",
    "        print(\"total bill : \",check+t)\n",
    "    \n",
    "    \n",
    "    \n",
    "check=float(input(\"enter check value\"))\n",
    "tip=float(input(\"enter tip (%)\"))\n",
    "tip=tip/100\n",
    "\n",
    "cal(check,tip)\n"
   ]
  },
  {
   "cell_type": "code",
   "execution_count": 21,
   "metadata": {},
   "outputs": [
    {
     "name": "stdout",
     "output_type": "stream",
     "text": [
      "enter actual price of the item90\n",
      "starting price of item =  90.0\n",
      "discounted price of item =  72.0\n"
     ]
    }
   ],
   "source": [
    "#Q6. Prompt the use for an item price (using a function)\n",
    "#Apply a 20% discount to the price (using a function)\n",
    "#Print the starting price and the discounted price\n",
    "\n",
    "def price():\n",
    "    i=float(input(\"enter actual price of the item\"))\n",
    "    x=apply_discount(i)\n",
    "    print(\"starting price of item = \",i)\n",
    "    print(\"discounted price of item = \",x)\n",
    "\n",
    "def apply_discount(i):\n",
    "    ans=i-((i*20)/100)\n",
    "    return ans\n",
    "\n",
    "price()\n"
   ]
  },
  {
   "cell_type": "code",
   "execution_count": null,
   "metadata": {},
   "outputs": [],
   "source": []
  }
 ],
 "metadata": {
  "kernelspec": {
   "display_name": "Python 3",
   "language": "python",
   "name": "python3"
  },
  "language_info": {
   "codemirror_mode": {
    "name": "ipython",
    "version": 3
   },
   "file_extension": ".py",
   "mimetype": "text/x-python",
   "name": "python",
   "nbconvert_exporter": "python",
   "pygments_lexer": "ipython3",
   "version": "3.8.5"
  }
 },
 "nbformat": 4,
 "nbformat_minor": 4
}
